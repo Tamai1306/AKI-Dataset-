{
  "cells": [
    {
      "cell_type": "markdown",
      "metadata": {
        "id": "view-in-github",
        "colab_type": "text"
      },
      "source": [
        "<a href=\"https://colab.research.google.com/github/Tamai1306/AKI-Dataset-/blob/main/SEMINARIO/Trabajo_Final_Algoritmos_Optimizaci%C3%B3n.ipynb\" target=\"_parent\"><img src=\"https://colab.research.google.com/assets/colab-badge.svg\" alt=\"Open In Colab\"/></a>"
      ]
    },
    {
      "cell_type": "markdown",
      "metadata": {
        "id": "hVbXYX-RfPWh"
      },
      "source": [
        "# Algoritmos de optimización - Seminario<br>\n",
        "Nombre y Apellidos: Tamai Ramírez Gordillo   <br>\n",
        "Github: https://github.com/Tamai1306/03MIAR---Algoritmos-de-optimizacion/blob/main/SEMINARIO/Trabajo_Final_Algoritmos_Optimizaci%C3%B3n.ipynb<br>\n",
        "Colab: https://colab.research.google.com/drive/1CNSvR4G291lY1EXUy0OQL5Ps6kOSwLzQ?usp=sharing <br>\n",
        "Problema:\n",
        "> 1. Sesiones de doblaje <br>\n",
        ">2. Organizar los horarios de partidos de La Liga<br>\n",
        ">3. Combinar cifras y operaciones\n",
        "\n",
        "Descripción del problema:(copiar enunciado)\n",
        "\n",
        "....\n",
        "\n",
        "(*) La respuesta es obligatoria\n",
        "\n",
        "\n",
        "\n",
        "\n",
        "\n",
        "                                        "
      ]
    },
    {
      "cell_type": "markdown",
      "metadata": {
        "id": "pCzMCSmjYWhy"
      },
      "source": [
        "Respuesta"
      ]
    },
    {
      "cell_type": "markdown",
      "metadata": {
        "id": "0KGwyQM8YfGZ"
      },
      "source": [
        "<p style='text-align: justify;'>\n",
        "Problema 3. Combinar cifras y operaciones:\n",
        "\n",
        "• El problema consiste en analizar el siguiente problema y diseñar un algoritmo que lo resuelva.\n",
        "\n",
        "• Disponemos de las 9 cifras del 1 al 9 (excluimos el cero) y de los 4 signos básicos de las operaciones fundamentales: suma(+), resta(-), multiplicación($\\times$) y división(/)\n",
        "\n",
        "• Debemos combinarlos alternativamente sin repetir ninguno de ellos para obtener una cantidad dada. Un ejemplo sería para obtener el 4:\n",
        "\n",
        "$4+2-6/3\\times1 = 4$\n",
        " </p>"
      ]
    },
    {
      "cell_type": "markdown",
      "metadata": {
        "id": "3_-exlrTgLd-"
      },
      "source": [
        "(*)¿Cuantas posibilidades hay sin tener en cuenta las restricciones?<br>\n",
        "\n",
        "\n",
        "\n",
        "¿Cuantas posibilidades hay teniendo en cuenta todas las restricciones?. <br>\n",
        "\n",
        "\n"
      ]
    },
    {
      "cell_type": "markdown",
      "metadata": {
        "id": "WfCUqJyKhPcw"
      },
      "source": [
        "Respuesta"
      ]
    },
    {
      "cell_type": "markdown",
      "source": [
        "### ¿Cuantas posibilidades hay sin tener en cuenta las restricciones?<br>\n",
        "<p style='text-align: justify;'>\n",
        "Para realizar este calculo hay que tomar en cuenta que se realizan variaciones con repetición de los 5 númneros elegidos de los 9 posibles junto a las permutaciones con repetición de los 4 operadores para cada variación anterior. \n",
        "\n",
        "Total: $9^5×4^4=15116544$ posibilidades.\n",
        "</p>\n"
      ],
      "metadata": {
        "id": "ReuGogwKxAFr"
      }
    },
    {
      "cell_type": "code",
      "source": [
        "import itertools\n",
        "\n",
        "permutations_opers=list(itertools.product(['*','+','-','/'], repeat=4))\n",
        "numbers_permutation=list(itertools.product([str(x) for x in range(1,10)],repeat=5))\n",
        "pos_no_res=len(permutations_opers)*len(numbers_permutation)\n",
        "print(f\"Posibilidades sin tener en cuenta las restricciones: {pos_no_res}\")"
      ],
      "metadata": {
        "colab": {
          "base_uri": "https://localhost:8080/"
        },
        "id": "4SSxjbBL0iET",
        "outputId": "9fc3e8e0-dc33-4e12-dc4e-4f875f8a2281"
      },
      "execution_count": null,
      "outputs": [
        {
          "output_type": "stream",
          "name": "stdout",
          "text": [
            "Posibilidades sin tener en cuenta las restricciones: 15116544\n"
          ]
        }
      ]
    },
    {
      "cell_type": "markdown",
      "source": [
        "### ¿Cuantas posibilidades hay teniendo en cuenta todas las restricciones."
      ],
      "metadata": {
        "id": "ZBuqFW780i7S"
      }
    },
    {
      "cell_type": "markdown",
      "source": [
        "<p style='text-align: justify;'>\n",
        "Para realizar este calculo hay que tomar en cuenta que se realizan variaciones sin repetición de los 5 números elegidos de los 9 posibles junto a las permutaciones sin repetición de los 4 operadores para cada variación anterior. \n",
        "\n",
        "Total: $\\frac{9!}{4!}×4!=9!=362880$ posibilidades.\n",
        "</p>"
      ],
      "metadata": {
        "id": "Ym16JPzc4TsB"
      }
    },
    {
      "cell_type": "code",
      "execution_count": null,
      "metadata": {
        "colab": {
          "base_uri": "https://localhost:8080/"
        },
        "id": "iq6Fe32MgpDX",
        "outputId": "fc5c1e3e-5309-4d48-d1fe-60cd376fa510"
      },
      "outputs": [
        {
          "output_type": "stream",
          "name": "stdout",
          "text": [
            "Posibilidades sin tener en cuenta las restricciones: 362880\n"
          ]
        }
      ],
      "source": [
        "import itertools\n",
        "\n",
        "permutations_opers=list(itertools.permutations(['*','+','-','/'], 4))\n",
        "numbers_permutation=list(itertools.permutations([str(x) for x in range(1,10)],5))\n",
        "pos_res=len(permutations_opers)*len(numbers_permutation)\n",
        "print(f\"Posibilidades sin tener en cuenta las restricciones: {pos_res}\")"
      ]
    },
    {
      "cell_type": "markdown",
      "metadata": {
        "id": "dzynfVJahHoY"
      },
      "source": [
        "Modelo para el espacio de soluciones<br>\n",
        "(*) ¿Cual es la estructura de datos que mejor se adapta al problema? Argumentalo.(Es posible que hayas elegido una al principio y veas la necesidad de cambiar, arguentalo)\n"
      ]
    },
    {
      "cell_type": "markdown",
      "metadata": {
        "id": "xFIJrOwKi2Ti"
      },
      "source": [
        "Respuesta"
      ]
    },
    {
      "cell_type": "markdown",
      "metadata": {
        "id": "IJK2X839ehW4"
      },
      "source": [
        "<p style='text-align: justify;'>\n",
        "La estructura de datos que mejor se adapta al problema es una lista de tuplas, donde cada tupla contendrá 5 elementos con los números seleccionados y otra lista de tuplas con las combinaciones de los 4 operadores. Esta estructura es la ideal gracias a que se aprovecha la propiedad de inmutabilidad de las tuplas, puesto que los datos no se van a modificar durante la ejecución. <br>\n",
        "</p>"
      ]
    },
    {
      "cell_type": "markdown",
      "metadata": {
        "id": "7Z9U2W7bi-XS"
      },
      "source": [
        "Según el modelo para el espacio de soluciones<br>\n",
        "(*)¿Cual es la función objetivo?\n",
        "\n",
        "(*)¿Es un problema de maximización o minimización?"
      ]
    },
    {
      "cell_type": "markdown",
      "metadata": {
        "id": "hBalWLM7j1_d"
      },
      "source": [
        "Respuesta"
      ]
    },
    {
      "cell_type": "markdown",
      "metadata": {
        "id": "JirgXTXBfK1I"
      },
      "source": [
        "### ¿Cuál es la función objetivo?\n",
        "<p style='text-align: justify;'>\n",
        "La función objetivo de este problema es aquella que pruebe todas las combinaciones de 5 números seleccionados y los 4 operadores de forma que al evaluar la expresión y restarle el valor solicitado se obtenga como resultado 0. <br>\n",
        "</p>\n",
        "\n",
        "### ¿Es un problema de maximización o minimización?\n",
        "<p style='text-align: justify;'>\n",
        "En este caso no es ni un problema de maximización ni de minimización, es un problema de búsqueda. <br>\n",
        "</p>"
      ]
    },
    {
      "cell_type": "markdown",
      "metadata": {
        "id": "rlnTYgY1j6I2"
      },
      "source": [
        "Diseña un algoritmo para resolver el problema por fuerza bruta"
      ]
    },
    {
      "cell_type": "markdown",
      "metadata": {
        "id": "70rDgxYXkC8r"
      },
      "source": [
        "Respuesta"
      ]
    },
    {
      "cell_type": "code",
      "execution_count": null,
      "metadata": {
        "id": "CJb5sQ0qkENy"
      },
      "outputs": [],
      "source": [
        "import numpy as np \n",
        "import itertools\n",
        "import time\n",
        "\n",
        "def naive(value): #Función de Fuerza Bruta\n",
        "  node=[]\n",
        "  nodes=[]\n",
        "  opers=['*','+','-','/']\n",
        "  merged_list = [None] * 9\n",
        "  permutations_opers=list(itertools.permutations(opers, 4))\n",
        "  for i4 in range(1,10):\n",
        "    for i3 in range(1,10):\n",
        "      for i2 in range(1,10):\n",
        "        for i1 in range(1,10):\n",
        "          for i0 in range(1,10):\n",
        "            node=[str(i4),str(i3),str(i2),str(i1),str(i0)]\n",
        "            if len(np.unique(node))==5:\n",
        "              for opers in permutations_opers:\n",
        "                merged_list[::2] = node\n",
        "                merged_list[1::2] = opers\n",
        "                merged_list2string = ''.join(merged_list)\n",
        "                if eval(merged_list2string)==value:\n",
        "                  nodes.append(merged_list2string)\n",
        "  return nodes"
      ]
    },
    {
      "cell_type": "markdown",
      "source": [
        "<p style='text-align: justify;'>\n",
        "En el siguiente código se comprobará el tiempo que tarda el algoritmo en computar todas las operaciones posibles para obtener de resultado los valores en el rango [-69,77], que es el rango en el que se encuentran soluciones posibles.<br>\n",
        "</p>"
      ],
      "metadata": {
        "id": "qFgIsQNv9Lgw"
      }
    },
    {
      "cell_type": "code",
      "source": [
        "inicio=time.time()\n",
        "for i in range(-69,77):\n",
        "  nodes=naive(i)\n",
        "fin=time.time()\n",
        "\n",
        "print(f\"Tiempo consumido en la Solución por Fuerza Bruta: {(fin-inicio):.2f}s\")"
      ],
      "metadata": {
        "id": "PVgy8xui9MMQ",
        "colab": {
          "base_uri": "https://localhost:8080/"
        },
        "outputId": "96095839-3633-4aec-d67a-29f8809934a6"
      },
      "execution_count": null,
      "outputs": [
        {
          "output_type": "stream",
          "name": "stdout",
          "text": [
            "Tiempo consumido en la Solución por Fuerza Bruta: 625.41s\n"
          ]
        }
      ]
    },
    {
      "cell_type": "markdown",
      "metadata": {
        "id": "tgrnsC2nkFa8"
      },
      "source": [
        "Calcula la complejidad del algoritmo por fuerza bruta"
      ]
    },
    {
      "cell_type": "markdown",
      "metadata": {
        "id": "9eUd3xwckP68"
      },
      "source": [
        "Respuesta"
      ]
    },
    {
      "cell_type": "markdown",
      "metadata": {
        "id": "7onyEvVHg0cI"
      },
      "source": [
        "Debido a la cantidad de bucles **for** anidados que hay en el algoritmo y tomando en cuenta que cada bucle se ejecuta al menos n veces, la complejidad del algoritmo se approxima a O($n^6$). <br> "
      ]
    },
    {
      "cell_type": "markdown",
      "metadata": {
        "id": "txbrmLmskReM"
      },
      "source": [
        "(*)Diseña un algoritmo que mejore la complejidad del algortimo por fuerza bruta. Argumenta porque crees que mejora el algoritmo por fuerza bruta"
      ]
    },
    {
      "cell_type": "markdown",
      "metadata": {
        "id": "hLrVwt5QkZPD"
      },
      "source": [
        "Respuesta"
      ]
    },
    {
      "cell_type": "markdown",
      "metadata": {
        "id": "h66Y2xqdiuWv"
      },
      "source": [
        "Para la resolución de este problema se han aplicado dos técnicas para valuar la eficiencia de cada una. En este caso al tratarse de un problema de búsqueda, las técnicas que mejor se ajustan al problema son **Backtracking** y **Ramificación y Poda**. <br>\n",
        "\n",
        "Estas técnicas permiten explorar el arból de nodos posibles y cortar las ramas que no son factibles o no prometedoras para encontrar el nodo con la solución objetivo. <br>\n",
        "\n",
        "Para las dos técnicas se va a emplear la función *eval_node()* la cual se encarga de evaluar la selección de números y operadores y devolver la diferencia del valor calculado con el valor solicitado. <br>"
      ]
    },
    {
      "cell_type": "code",
      "execution_count": null,
      "metadata": {
        "id": "6E9AhZ2EnNPe"
      },
      "outputs": [],
      "source": [
        "import numpy as np\n",
        "import itertools\n",
        "import time"
      ]
    },
    {
      "cell_type": "code",
      "execution_count": null,
      "metadata": {
        "id": "ECB82KSFmHPG"
      },
      "outputs": [],
      "source": [
        "def eval_node(node,target,opers):\n",
        "  # Generar una lista que contenga la operación a evaluar con los números y operadores\n",
        "  merged_list = [None] * 9 \n",
        "  merged_list[::2] = node\n",
        "  merged_list[1::2] = opers\n",
        "\n",
        "  # Obtener los índices en los que se encuentran los operadores de suma, resta y multiplicación\n",
        "  index_sum_op=merged_list.index('+')\n",
        "  index_mult_op=merged_list.index('*')\n",
        "  index_sub_op=merged_list.index('-')\n",
        "  index_div_op=merged_list.index('/')\n",
        "  merged_list2string=[]\n",
        "\n",
        "  # La siguiente comprobación evalúa que no se realicen operaciones conmutativas si no se cumple la condición se devuelve como valor np.inf\n",
        "  if merged_list[index_sum_op-1] > merged_list[index_sum_op+1] and merged_list[index_mult_op-1] < merged_list[index_mult_op+1] and merged_list[index_div_op-1] > merged_list[index_div_op+1] and abs(index_sum_op-index_sub_op)>2 and (index_sub_op==1 or index_sum_op==1):\n",
        "    merged_list2string = ''.join(merged_list)\n",
        "    return abs(eval(merged_list2string)-target),merged_list2string\n",
        "  else:\n",
        "    return np.inf,merged_list2string"
      ]
    },
    {
      "cell_type": "markdown",
      "metadata": {
        "id": "-22MJWGTioGf"
      },
      "source": [
        "Solución por Backtracking"
      ]
    },
    {
      "cell_type": "code",
      "execution_count": null,
      "metadata": {
        "id": "m1eyM21Vkabg"
      },
      "outputs": [],
      "source": [
        "def backtracking(result,node,index,nodes,best,permutations_opers):\n",
        "  if index==5:\n",
        "    if len(np.unique(node))==5:\n",
        "      for opers in permutations_opers:\n",
        "        try:\n",
        "          value, merged_list2string=eval_node(node,result,list(opers))\n",
        "          if value==0:\n",
        "            nodes.append(merged_list2string)\n",
        "        except:\n",
        "          continue   \n",
        "    return\n",
        "\n",
        "  for i in range(1,10):\n",
        "    node[index]=str(i)\n",
        "    backtracking(result,node,index+1,nodes,best,permutations_opers)\n",
        "    node[index]=None"
      ]
    },
    {
      "cell_type": "markdown",
      "source": [
        "En el siguiente código se comprobará el tiempo que tarda el algoritmo en computar todas las operaciones posibles para obtener de resultado los valores en el rango [-69,77], que es el rango en el que se encuentran soluciones posibles.<br>"
      ],
      "metadata": {
        "id": "tIbtRNP69HhA"
      }
    },
    {
      "cell_type": "code",
      "execution_count": null,
      "metadata": {
        "id": "IgbCIOn3m9O-",
        "colab": {
          "base_uri": "https://localhost:8080/"
        },
        "outputId": "2bbca6ba-c48b-4a26-9dde-53b48012a5e0"
      },
      "outputs": [
        {
          "output_type": "stream",
          "name": "stdout",
          "text": [
            "Tiempo consumido por el algoritmo de Backtracking: 234.92s\n"
          ]
        }
      ],
      "source": [
        "node=[None]*5\n",
        "permutations_opers=list(itertools.permutations(['*','+','-','/'], 4)) \n",
        "nodes=list()\n",
        "best=np.inf\n",
        "\n",
        "inicio=time.time()\n",
        "for i in range(-69,77):\n",
        "  backtracking(i,node,0,nodes,best,permutations_opers)\n",
        "fin=time.time()\n",
        "print(f\"Tiempo consumido por el algoritmo de Backtracking: {(fin-inicio):.2f}s\")"
      ]
    },
    {
      "cell_type": "markdown",
      "source": [
        "Solución por Ramificación y Poda"
      ],
      "metadata": {
        "id": "2adE5kJr56kB"
      }
    },
    {
      "cell_type": "code",
      "source": [
        "def branchBound(target):\n",
        "  results=[]\n",
        "  permutations_opers=list(itertools.permutations(['*','+','-','/'], 4))\n",
        "  numbers_permutation=list(itertools.permutations([str(x) for x in range(1,10)],5))\n",
        "  for numbers in numbers_permutation:\n",
        "    if len(np.unique(numbers))==5:\n",
        "        for opers in permutations_opers:\n",
        "          try:\n",
        "            value, operation=eval_node(numbers,target,list(opers))\n",
        "            if value==0:\n",
        "              results.append(operation)\n",
        "          except:\n",
        "            continue\n",
        "  return results"
      ],
      "metadata": {
        "id": "FRIPbSPm6Ano"
      },
      "execution_count": null,
      "outputs": []
    },
    {
      "cell_type": "markdown",
      "source": [
        "En el siguiente código se comprobará el tiempo que tarda el algoritmo en computar todas las operaciones posibles para obtener de resultado los valores en el rango [-69,77], que es el rango en el que se encuentran soluciones posibles.<br>"
      ],
      "metadata": {
        "id": "hETgskys8tKB"
      }
    },
    {
      "cell_type": "code",
      "source": [
        "inicio=time.time()\n",
        "for i in range(-69,77):\n",
        "  branchBound(i)\n",
        "fin=time.time()\n",
        "print(f\"Tiempo consumido por el algoritmo de Ramificación y Poda: {(fin-inicio):.2f}s\")"
      ],
      "metadata": {
        "colab": {
          "base_uri": "https://localhost:8080/"
        },
        "id": "aWP01tc46Eqp",
        "outputId": "8275a6e9-111e-4b6e-c4c6-f20cb6528597"
      },
      "execution_count": null,
      "outputs": [
        {
          "output_type": "stream",
          "name": "stdout",
          "text": [
            "Tiempo consumido por el algoritmo de Ramificación y Poda: 167.37s\n"
          ]
        }
      ]
    },
    {
      "cell_type": "markdown",
      "metadata": {
        "id": "eGDB4K6uk1iN"
      },
      "source": [
        "(*)Calcula la complejidad del algoritmo "
      ]
    },
    {
      "cell_type": "markdown",
      "metadata": {
        "id": "NhpTh_BPk1ms"
      },
      "source": [
        "Respuesta"
      ]
    },
    {
      "cell_type": "markdown",
      "source": [
        "Para el calculo de la complejidad se va a tomar la mejor solución obtenida que en este caso se da aplicando la técnica de **Ramificación y Poda**. Como se puede observar en el algoritmo se realiza una búsqueda empleando dos bucles **for** anidados que se computan al menos n veces cada uno, por tanto, la complejidad del Algoritmo se acercará a O($n^2$), siendo por tanto más eficiente que el algoritmo de fuerza bruta. Este hecho puede comprobarse al observar el tiempo que tarda cada algoritmo en computar todas las soluciones posibles:\n",
        "\n",
        "*   Fuerza Bruta: 10 min 26 s\n",
        "*   Bactracking: 3 min 54 s\n",
        "*   Ramificación y Poda: 2 min 47 s\n",
        "<br>\n",
        "\n",
        "\n",
        "\n",
        "\n"
      ],
      "metadata": {
        "id": "ukEKbquleHXk"
      }
    },
    {
      "cell_type": "markdown",
      "source": [
        "No obstante, existe una forma de acelerar el procesamiento del algoritmo **Backtracking** para este problema, aprovenchando las ventajas que ofrece la recursividad, cambiando la forma de rellenar el vector de números y, en consecuencia, reducir la complejidad a O(n$\\times$log(n))."
      ],
      "metadata": {
        "id": "Cvam6lnpAWbO"
      }
    },
    {
      "cell_type": "code",
      "source": [
        "def backtracking(result,node,index,nodes,best,permutations_opers):\n",
        "  if index==5:\n",
        "    for opers in permutations_opers:\n",
        "      try:\n",
        "        value, merged_list2string=eval_node(node,result,list(opers))\n",
        "        if value==0:\n",
        "          nodes.append(merged_list2string)\n",
        "      except:\n",
        "        continue   \n",
        "    return\n",
        "\n",
        "  for i in range(1,10):\n",
        "    if str(i) not in node:\n",
        "      node[index]=str(i)\n",
        "      backtracking(result,node,index+1,nodes,best,permutations_opers)\n",
        "      node[index]=None"
      ],
      "metadata": {
        "id": "lPys-Hy6Bw_u"
      },
      "execution_count": null,
      "outputs": []
    },
    {
      "cell_type": "code",
      "source": [
        "node=[None]*5\n",
        "permutations_opers=list(itertools.permutations(['*','+','-','/'], 4)) \n",
        "nodes=list()\n",
        "best=np.inf\n",
        "\n",
        "inicio=time.time()\n",
        "for i in range(-69,77):\n",
        "  backtracking(i,node,0,nodes,best,permutations_opers)\n",
        "fin=time.time()\n",
        "print(f\"Tiempo consumido por el algoritmo de Backtracking: {(fin-inicio):.2f}s\")"
      ],
      "metadata": {
        "colab": {
          "base_uri": "https://localhost:8080/"
        },
        "id": "ipz4hoN3B_HW",
        "outputId": "ed5c3b2a-1006-4e70-dce4-9ce880c23241"
      },
      "execution_count": null,
      "outputs": [
        {
          "output_type": "stream",
          "name": "stdout",
          "text": [
            "Tiempo consumido por el algoritmo de Backtracking: 118.45s\n"
          ]
        }
      ]
    },
    {
      "cell_type": "markdown",
      "metadata": {
        "id": "3M6QjTsSkmYe"
      },
      "source": [
        "Según el problema (y tenga sentido), diseña un juego de datos de entrada aleatorios"
      ]
    },
    {
      "cell_type": "markdown",
      "metadata": {
        "id": "Jc3_OlyNkvjZ"
      },
      "source": [
        "Respuesta"
      ]
    },
    {
      "cell_type": "code",
      "execution_count": null,
      "metadata": {
        "id": "sJ-N2etjkyWc",
        "colab": {
          "base_uri": "https://localhost:8080/"
        },
        "outputId": "46754cc8-166d-4d86-b5c1-a3348fed7883"
      },
      "outputs": [
        {
          "output_type": "stream",
          "name": "stdout",
          "text": [
            "[ -6 -52   7  19  63  20  40  58  41  27]\n"
          ]
        }
      ],
      "source": [
        "rand_data_set=np.random.randint(-69,77,size=(10))\n",
        "print(rand_data_set)"
      ]
    },
    {
      "cell_type": "markdown",
      "metadata": {
        "id": "zy5ZROmjlGo1"
      },
      "source": [
        "Aplica el algoritmo al juego de datos generado"
      ]
    },
    {
      "cell_type": "markdown",
      "metadata": {
        "id": "_Cmj-PVylMsa"
      },
      "source": [
        "Respuesta"
      ]
    },
    {
      "cell_type": "code",
      "execution_count": null,
      "metadata": {
        "id": "Jkx8GeiYlUz1",
        "colab": {
          "base_uri": "https://localhost:8080/"
        },
        "outputId": "55f159ca-b0d9-4377-be59-fb3dfc136d08"
      },
      "outputs": [
        {
          "output_type": "stream",
          "name": "stdout",
          "text": [
            "1-3/2*8+5 = -6\n",
            "1-7*8+6/2 = -52\n",
            "1-6/3+2*4 = 7\n",
            "3+2*9-8/4 = 19\n",
            "9+7/1*8-2 = 63\n",
            "1-8/4+3*7 = 20\n",
            "6+4/1*9-2 = 40\n",
            "7+6/1*9-3 = 58\n",
            "7+4/1*9-2 = 41\n",
            "2-8/4+3*9 = 27\n"
          ]
        }
      ],
      "source": [
        "node=[None]*5\n",
        "permutations_opers=list(itertools.permutations(['*','+','-','/'], 4)) \n",
        "best=np.inf\n",
        "for elem in rand_data_set:\n",
        "  nodes=list()\n",
        "  backtracking(elem,node,0,nodes,best,permutations_opers)\n",
        "  print(f\"{nodes[0]} = {int(eval(nodes[0]))}\")"
      ]
    },
    {
      "cell_type": "markdown",
      "metadata": {
        "id": "eTFWUJQrtGcv"
      },
      "source": [
        "Enumera las referencias que has utilizado(si ha sido necesario) para llevar a cabo el trabajo"
      ]
    },
    {
      "cell_type": "markdown",
      "metadata": {
        "id": "YKQ_mRBttWsP"
      },
      "source": [
        "Respuesta"
      ]
    },
    {
      "cell_type": "markdown",
      "source": [
        "Para la realización de este trabajo se han empleado principalment las transparencias vistas en clase y los conocimientos adquiridos durante las clases <br>"
      ],
      "metadata": {
        "id": "35L0M4v1ZMMv"
      }
    },
    {
      "cell_type": "markdown",
      "metadata": {
        "id": "kAkDPUyRtYyH"
      },
      "source": [
        "Describe brevemente las lineas de como crees que es posible avanzar en el estudio del problema. Ten en cuenta incluso posibles variaciones del problema y/o variaciones al alza del tamaño"
      ]
    },
    {
      "cell_type": "markdown",
      "metadata": {
        "id": "IE0uZmo-tZu-"
      },
      "source": [
        "Respuesta"
      ]
    },
    {
      "cell_type": "markdown",
      "source": [
        "Tomando en cuenta problema escogido para este trabajo, se podría considerar realizar una evaluación de posibles podas que ayuden a reducir la exploración de nodos que no son prometedores o que se puedan llegar a evaluar varias veces, en este caso, reducir las combinaciones de permutaciones de los numeros y operadores que puedan repetirse en alguna ocasión. Un posible avance podría ser añadir un almacenamiento por **Programación dinámica** que almacene resultados parciales y se puedan consultar durante el transcurso de la exploracion del arbol de soluciones y así lograr acelerar el rendimiento del algoritmo. <br>"
      ],
      "metadata": {
        "id": "yrOe9fdJZXge"
      }
    }
  ],
  "metadata": {
    "colab": {
      "provenance": [],
      "include_colab_link": true
    },
    "kernelspec": {
      "display_name": "Python 3",
      "name": "python3"
    }
  },
  "nbformat": 4,
  "nbformat_minor": 0
}